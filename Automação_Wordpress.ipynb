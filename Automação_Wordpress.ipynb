{
  "nbformat": 4,
  "nbformat_minor": 0,
  "metadata": {
    "colab": {
      "provenance": [],
      "toc_visible": true,
      "authorship_tag": "ABX9TyPuU2PiU6ZgD/k8oZ4EeWGq",
      "include_colab_link": true
    },
    "kernelspec": {
      "name": "python3",
      "display_name": "Python 3"
    },
    "language_info": {
      "name": "python"
    }
  },
  "cells": [
    {
      "cell_type": "markdown",
      "metadata": {
        "id": "view-in-github",
        "colab_type": "text"
      },
      "source": [
        "<a href=\"https://colab.research.google.com/github/agentkyo/Google_App_Script/blob/main/Automa%C3%A7%C3%A3o_Wordpress.ipynb\" target=\"_parent\"><img src=\"https://colab.research.google.com/assets/colab-badge.svg\" alt=\"Open In Colab\"/></a>"
      ]
    },
    {
      "cell_type": "code",
      "execution_count": null,
      "metadata": {
        "colab": {
          "base_uri": "https://localhost:8080/"
        },
        "id": "5dBimNjJIAf9",
        "outputId": "42afb119-0713-4196-c49e-339e134a7be9"
      },
      "outputs": [
        {
          "output_type": "stream",
          "name": "stdout",
          "text": [
            "Planilha atualizada com sucesso!\n"
          ]
        }
      ],
      "source": [
        "!pip install python-dotenv gspread google-auth --quiet\n",
        "\n",
        "import requests\n",
        "import os\n",
        "import base64\n",
        "from dotenv import load_dotenv, find_dotenv\n",
        "import gspread\n",
        "from google.colab import auth\n",
        "from google.auth import default\n",
        "from google.colab import userdata\n",
        "\n",
        "auth.authenticate_user()\n",
        "creds, _ = default()\n",
        "gc = gspread.authorize(creds)\n",
        "\n",
        "load_dotenv(find_dotenv())\n",
        "\n",
        "class ShipayWordpress:\n",
        "    def __init__(self):\n",
        "        self.site_url = userdata.get(\"SITE_URL\")\n",
        "        self.username = userdata.get(\"WORDPRESS_USERNAME\")\n",
        "        self.password = userdata.get(\"WORDPRESS_API_KEY\")\n",
        "\n",
        "    def authenticate(self):\n",
        "        token = base64.b64encode(f\"{self.username}:{self.password}\".encode()).decode()\n",
        "        headers = {\"Content-Type\": \"application/json\", \"Authorization\": f\"Basic {token}\"}\n",
        "        response = requests.get(f\"{self.site_url}/wp-json/\", headers=headers)\n",
        "        if response.status_code == 200:\n",
        "            print(\"Authenticated\")\n",
        "            return response.json()\n",
        "        else:\n",
        "            print(f\"Failed to authenticate: {response.status_code}\")\n",
        "            return None\n",
        "\n",
        "    def get_wordpress_posts(self):\n",
        "        token = base64.b64encode(f\"{self.username}:{self.password}\".encode()).decode()\n",
        "        headers = {\"Content-Type\": \"application/json\", \"Authorization\": f\"Basic {token}\"}\n",
        "        endpoint = f\"{self.site_url}/wp-json/wp/v2/posts\"\n",
        "        params = {\"per_page\": 100, \"page\": 1}\n",
        "        response = requests.get(endpoint, headers=headers, params=params)\n",
        "        if response.status_code != 200:\n",
        "            print(f\"Failed to retrieve posts on page 1: {response.status_code}\")\n",
        "            return None\n",
        "        all_posts = response.json()\n",
        "        total_pages = int(response.headers.get(\"X-WP-TotalPages\", 1))\n",
        "        for page in range(2, total_pages + 1):\n",
        "            params[\"page\"] = page\n",
        "            response = requests.get(endpoint, headers=headers, params=params)\n",
        "            if response.status_code != 200:\n",
        "                print(f\"Failed to retrieve posts on page {page}: {response.status_code}\")\n",
        "                break\n",
        "            all_posts.extend(response.json())\n",
        "        return all_posts\n",
        "\n",
        "def format_posts_for_sheet(posts):\n",
        "    data = [[\"ID\", \"Título\", \"Conteúdo\", \"Data\"]]\n",
        "    for post in posts:\n",
        "        post_id = post.get(\"id\")\n",
        "        title = post.get(\"title\", {}).get(\"rendered\", \"\")\n",
        "        content = post.get(\"content\", {}).get(\"rendered\", \"\")\n",
        "        date = post.get(\"date\")\n",
        "        data.append([post_id, title, content, date])\n",
        "    return data\n",
        "\n",
        "def update_google_sheet(sheet_id, worksheet_name, data):\n",
        "    sh = gc.open_by_key(sheet_id)\n",
        "    try:\n",
        "        worksheet = sh.worksheet(worksheet_name)\n",
        "    except gspread.exceptions.WorksheetNotFound:\n",
        "        worksheet = sh.add_worksheet(title=worksheet_name, rows=\"100\", cols=\"20\")\n",
        "    worksheet.clear()\n",
        "    worksheet.update(range_name='A1', values=data)\n",
        "    print(\"Planilha atualizada com sucesso!\")\n",
        "\n",
        "wp_client = ShipayWordpress()\n",
        "posts = wp_client.get_wordpress_posts()\n",
        "if posts is None:\n",
        "    print(\"Não foi possível recuperar os posts.\")\n",
        "else:\n",
        "    table_data = format_posts_for_sheet(posts)\n",
        "    SHEET_ID = \"1r1GLZscR40SvwwpEWSzfS3FNZNBjoRwn-br1LJjBFDc\"\n",
        "    WORKSHEET_NAME = \"wordpress\"\n",
        "    update_google_sheet(SHEET_ID, WORKSHEET_NAME, table_data)\n"
      ]
    }
  ]
}